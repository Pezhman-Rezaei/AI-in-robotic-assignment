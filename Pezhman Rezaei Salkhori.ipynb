{
  "cells": [
    {
      "cell_type": "markdown",
      "metadata": {},
      "source": [
        "Import libraries"
      ]
    },
    {
      "cell_type": "code",
      "execution_count": 6,
      "metadata": {
        "id": "9COYeDiJMxVD"
      },
      "outputs": [],
      "source": [
        "import numpy as np\n",
        "import matplotlib.pyplot as plt\n",
        "\n",
        "\n",
        "\n"
      ]
    },
    {
      "cell_type": "markdown",
      "metadata": {},
      "source": [
        "Define WindyGridWorld environment for reinforcement learning with specified dimensions, start and goal positions, and wind effect."
      ]
    },
    {
      "cell_type": "code",
      "execution_count": 12,
      "metadata": {
        "id": "qt1zQYDY3nW2"
      },
      "outputs": [],
      "source": [
        "class WindyGridWorld:\n",
        "    def __init__(self, grid_shape=(7, 10), start=(3, 0), goal=(3, 7), wind=[0, 0, 0, 1, 1, 1, 2, 2, 1, 0]):\n",
        "        self.grid_shape = grid_shape\n",
        "        self.start = start\n",
        "        self.goal = goal\n",
        "        self.wind = wind\n",
        "\n",
        "        self.actions = [(0, 1), (0, -1), (-1, 0), (1, 0)]  # Right, Left, Up, Down\n",
        "        self.num_actions = len(self.actions)\n",
        "\n",
        "        self.state = start\n",
        "\n",
        "    def step(self, action):\n",
        "        # Apply wind effect\n",
        "        wind_strength = self.wind[self.state[1]]\n",
        "        next_state = (self.state[0] + self.actions[action][0] - wind_strength,\n",
        "                      max(0, min(self.grid_shape[1] - 1, self.state[1] + self.actions[action][1])))\n",
        "\n",
        "        # Check if the next state is within the grid boundaries\n",
        "        next_state = (max(0, min(self.grid_shape[0] - 1, next_state[0])), next_state[1])\n",
        "\n",
        "        # Update the current state\n",
        "        self.state = next_state\n",
        "\n",
        "        # Check if the agent has reached the goal\n",
        "        done = (self.state == self.goal)\n",
        "\n",
        "        return self.state, -1, done\n",
        "\n",
        "    def reset(self):\n",
        "        self.state = self.start\n",
        "        return self.state"
      ]
    },
    {
      "cell_type": "markdown",
      "metadata": {},
      "source": [
        "Implement Monte Carlo Control algorithm to learn an optimal policy over episodes with exploration-exploitation balance."
      ]
    },
    {
      "cell_type": "code",
      "execution_count": 9,
      "metadata": {
        "id": "UWSFloLI3nQQ"
      },
      "outputs": [],
      "source": [
        "\n",
        "class MonteCarloControl:\n",
        "    def __init__(self, env, episodes=8000, epsilon=0.1, gamma=0.9):\n",
        "        self.env = env\n",
        "        self.episodes = episodes\n",
        "        self.epsilon = epsilon\n",
        "        self.gamma = gamma\n",
        "\n",
        "        # Initialize action-value function\n",
        "        self.Q = np.zeros((env.grid_shape[0], env.grid_shape[1], env.num_actions))\n",
        "        self.N = np.zeros((env.grid_shape[0], env.grid_shape[1], env.num_actions))  # Visit count for each state-action pair\n",
        "\n",
        "    def run(self):\n",
        "        for _ in range(self.episodes):\n",
        "            episode = []\n",
        "            state = self.env.reset()\n",
        "            done = False\n",
        "\n",
        "            # Generate an episode\n",
        "            while not done:\n",
        "                if np.random.rand() < self.epsilon:\n",
        "                    action = np.random.choice(self.env.num_actions)  # Explore\n",
        "                else:\n",
        "                    action = np.argmax(self.Q[state[0], state[1]])  # Exploit\n",
        "\n",
        "                next_state, reward, done = self.env.step(action)\n",
        "                episode.append((state, action, reward))\n",
        "                state = next_state\n",
        "\n",
        "            # Update action-value function\n",
        "            G = 0\n",
        "            for t in range(len(episode) - 1, -1, -1):\n",
        "                state, action, reward = episode[t]\n",
        "                G = self.gamma * G + reward\n",
        "                self.N[state[0], state[1], action] += 1\n",
        "                alpha = 1 / self.N[state[0], state[1], action]\n",
        "                self.Q[state[0], state[1], action] += alpha * (G - self.Q[state[0], state[1], action])\n",
        "\n",
        "        return self.Q"
      ]
    },
    {
      "cell_type": "markdown",
      "metadata": {},
      "source": [
        "Create WindyGridWorld environment and apply Monte Carlo Control algorithm to obtain Q-values and calculate state values by taking the maximum Q-value at each state."
      ]
    },
    {
      "cell_type": "code",
      "execution_count": 10,
      "metadata": {
        "id": "-CJbDPTj3nJb"
      },
      "outputs": [],
      "source": [
        "env = WindyGridWorld()\n",
        "mc_control = MonteCarloControl(env)\n",
        "Q_values = mc_control.run()\n",
        "\n",
        "# Calculate state values (maximum Q-value at each state)\n",
        "state_values = np.max(Q_values, axis=2)"
      ]
    },
    {
      "cell_type": "markdown",
      "metadata": {},
      "source": [
        "Plot state values on a heatmap."
      ]
    },
    {
      "cell_type": "code",
      "execution_count": 11,
      "metadata": {
        "colab": {
          "base_uri": "https://localhost:8080/",
          "height": 607
        },
        "id": "eg1l6-7x3nAO",
        "outputId": "1fb346eb-144b-4d3c-c5a9-1962bfa47e5f"
      },
      "outputs": [
        {
          "data": {
            "image/png": "[encoded data removed]",
            "text/plain": [
              "<Figure size 800x600 with 2 Axes>"
            ]
          },
          "metadata": {},
          "output_type": "display_data"
        }
      ],
      "source": [
        "# Plot state values\n",
        "plt.figure(figsize=(8, 6))\n",
        "plt.imshow(state_values, cmap='hot', interpolation='nearest')\n",
        "plt.colorbar()\n",
        "plt.title('State Values')\n",
        "plt.xlabel('Column')\n",
        "plt.ylabel('Row')\n",
        "plt.xticks(range(env.grid_shape[1]))\n",
        "plt.yticks(range(env.grid_shape[0]))\n",
        "plt.tight_layout()\n",
        "plt.show()"
      ]
    },
    {
      "cell_type": "markdown",
      "metadata": {},
      "source": [
        "Create WindyGridWorld environment and Monte Carlo Control instance and Obtain Q-values and plot them for each state-action pair."
      ]
    },
    {
      "cell_type": "code",
      "execution_count": 13,
      "metadata": {},
      "outputs": [
        {
          "data": {
            "image/png": "[encoded data removed]",
            "text/plain": [
              "<Figure size 1200x600 with 8 Axes>"
            ]
          },
          "metadata": {},
          "output_type": "display_data"
        }
      ],
      "source": [
        "\n",
        " env = WindyGridWorld()\n",
        " mc_control = MonteCarloControl(env)\n",
        " Q_values = mc_control.run()\n",
        "\n",
        " # Plot Q-values for each state-action pair\n",
        " plt.figure(figsize=(12, 6))\n",
        " for action in range(env.num_actions):\n",
        "     plt.subplot(1, env.num_actions, action + 1)\n",
        "     plt.title(f'Action {action}')\n",
        "     plt.imshow(Q_values[:,:,action], cmap='hot', interpolation='nearest')\n",
        "     plt.colorbar()\n",
        "     plt.xlabel('Column')\n",
        "     plt.ylabel('Row')\n",
        "     plt.xticks(range(env.grid_shape[1]))\n",
        "     plt.yticks(range(env.grid_shape[0]))\n",
        " plt.tight_layout()\n",
        " plt.show()\n",
        "\n",
        "\n",
        "\n",
        "\n",
        "\n",
        "\n",
        "\n",
        "\n",
        "\n",
        "\n",
        "\n",
        "\n",
        "\n",
        "\n",
        "\n",
        "\n",
        "\n",
        "\n",
        "\n",
        "\n",
        "\n",
        "\n",
        "\n",
        "\n",
        "\n",
        "\n",
        "\n",
        "\n",
        "\n",
        "\n",
        "\n",
        "\n",
        "\n",
        "\n",
        "\n",
        "\n",
        "\n",
        "\n",
        "\n",
        "\n",
        "\n",
        "\n",
        "\n",
        "\n",
        "\n",
        "\n",
        "\n",
        "\n"
      ]
    }
  ],
  "metadata": {
    "colab": {
      "provenance": []
    },
    "kernelspec": {
      "display_name": "Python 3",
      "name": "python3"
    },
    "language_info": {
      "codemirror_mode": {
        "name": "ipython",
        "version": 3
      },
      "file_extension": ".py",
      "mimetype": "text/x-python",
      "name": "python",
      "nbconvert_exporter": "python",
      "pygments_lexer": "ipython3",
      "version": "3.11.4"
    }
  },
  "nbformat": 4,
  "nbformat_minor": 0
}
